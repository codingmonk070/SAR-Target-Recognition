{
 "cells": [
  {
   "cell_type": "markdown",
   "id": "ad9502f3",
   "metadata": {
    "id": "8aIU7CtOg-gm",
    "papermill": {
     "duration": 0.007197,
     "end_time": "2025-03-02T16:21:43.598192",
     "exception": false,
     "start_time": "2025-03-02T16:21:43.590995",
     "status": "completed"
    },
    "tags": []
   },
   "source": [
    "#**Two Stream CNN implementation for SAR Object recognition**"
   ]
  },
  {
   "cell_type": "markdown",
   "id": "68ccd3ca",
   "metadata": {
    "id": "LExi_pDjhQyP",
    "papermill": {
     "duration": 0.006243,
     "end_time": "2025-03-02T16:21:43.612046",
     "exception": false,
     "start_time": "2025-03-02T16:21:43.605803",
     "status": "completed"
    },
    "tags": []
   },
   "source": [
    "### Preprocessing Phase"
   ]
  },
  {
   "cell_type": "code",
   "execution_count": 1,
   "id": "ccd36148",
   "metadata": {
    "execution": {
     "iopub.execute_input": "2025-03-02T16:21:43.625670Z",
     "iopub.status.busy": "2025-03-02T16:21:43.625388Z",
     "iopub.status.idle": "2025-03-02T16:21:55.965622Z",
     "shell.execute_reply": "2025-03-02T16:21:55.964911Z"
    },
    "id": "10xokttIhVLq",
    "papermill": {
     "duration": 12.349612,
     "end_time": "2025-03-02T16:21:55.967906",
     "exception": false,
     "start_time": "2025-03-02T16:21:43.618294",
     "status": "completed"
    },
    "tags": []
   },
   "outputs": [],
   "source": [
    "import os\n",
    "import tensorflow as tf\n",
    "from tensorflow.keras import layers,models\n",
    "import numpy as np\n",
    "import matplotlib.pyplot as plt\n",
    "import cv2"
   ]
  },
  {
   "cell_type": "code",
   "execution_count": 2,
   "id": "834bccbc",
   "metadata": {
    "execution": {
     "iopub.execute_input": "2025-03-02T16:21:55.982734Z",
     "iopub.status.busy": "2025-03-02T16:21:55.982281Z",
     "iopub.status.idle": "2025-03-02T16:21:55.985976Z",
     "shell.execute_reply": "2025-03-02T16:21:55.985323Z"
    },
    "id": "AlToD7OmhfeJ",
    "papermill": {
     "duration": 0.012563,
     "end_time": "2025-03-02T16:21:55.987482",
     "exception": false,
     "start_time": "2025-03-02T16:21:55.974919",
     "status": "completed"
    },
    "tags": []
   },
   "outputs": [],
   "source": [
    "# import zipfile\n",
    "# zip_file_path = '/kaggle/input/mstar-dataset'\n",
    "# current_directory = os.getcwd()\n",
    "# with zipfile.ZipFile(zip_file_path, 'r') as zip_ref:\n",
    "#     zip_ref.extractall(current_directory)"
   ]
  },
  {
   "cell_type": "code",
   "execution_count": 3,
   "id": "74f09eec",
   "metadata": {
    "execution": {
     "iopub.execute_input": "2025-03-02T16:21:56.001507Z",
     "iopub.status.busy": "2025-03-02T16:21:56.000904Z",
     "iopub.status.idle": "2025-03-02T16:21:56.004497Z",
     "shell.execute_reply": "2025-03-02T16:21:56.003842Z"
    },
    "id": "0JtYWLzZhh6x",
    "papermill": {
     "duration": 0.012047,
     "end_time": "2025-03-02T16:21:56.005943",
     "exception": false,
     "start_time": "2025-03-02T16:21:55.993896",
     "status": "completed"
    },
    "tags": []
   },
   "outputs": [],
   "source": [
    "dir_train = r'/kaggle/input/mstar-dataset/MSTAR-10-Classes/test'\n",
    "dir_test = r'/kaggle/input/mstar-dataset/MSTAR-10-Classes/train'"
   ]
  },
  {
   "cell_type": "markdown",
   "id": "bd2d34d1",
   "metadata": {
    "id": "LaeVEilZhiot",
    "papermill": {
     "duration": 0.006266,
     "end_time": "2025-03-02T16:21:56.018664",
     "exception": false,
     "start_time": "2025-03-02T16:21:56.012398",
     "status": "completed"
    },
    "tags": []
   },
   "source": [
    "Preprocessing Functions"
   ]
  },
  {
   "cell_type": "code",
   "execution_count": 4,
   "id": "8e2bdfae",
   "metadata": {
    "execution": {
     "iopub.execute_input": "2025-03-02T16:21:56.032797Z",
     "iopub.status.busy": "2025-03-02T16:21:56.032370Z",
     "iopub.status.idle": "2025-03-02T16:21:56.037026Z",
     "shell.execute_reply": "2025-03-02T16:21:56.036237Z"
    },
    "id": "KfJhthCahmLg",
    "papermill": {
     "duration": 0.013516,
     "end_time": "2025-03-02T16:21:56.038721",
     "exception": false,
     "start_time": "2025-03-02T16:21:56.025205",
     "status": "completed"
    },
    "tags": []
   },
   "outputs": [],
   "source": [
    "def preprocessing(img):\n",
    "    # img= cv2.cvtColor(img,cv2.COLOR_BGR2GRAY)\n",
    "    img= cv2.resize(img,(128,128))\n",
    "    # filtered_image = cv2.fastNlMeansDenoising(img, None, h=30, templateWindowSize=7, searchWindowSize=21)\n",
    "    # filtered_image= lee_filter(img)\n",
    "    # Load your noisy image (as a 2D numpy array)\n",
    "    # noisy_image = cv2.imread('path_to_your_image', cv2.IMREAD_GRAYSCALE)\n",
    "\n",
    "# Apply the bilateral filter\n",
    "#     \n",
    "\n",
    "\n",
    "\n",
    "#     Noise elimination using fft\n",
    "\n",
    "#     fft_image = np.fft.fft2(img)\n",
    "#     fft_shift = np.fft.fftshift(fft_image)\n",
    "\n",
    "#     rows, cols = img.shape\n",
    "#     crow, ccol = rows // 2, cols // 2  # center\n",
    "\n",
    "#     # Create a mask with high frequencies zeroed out\n",
    "#     mask = np.ones((rows, cols), np.uint8)\n",
    "#     r = 5  # radius of the filter\n",
    "#     center = [crow, ccol]\n",
    "#     x, y = np.ogrid[:rows, :cols]\n",
    "#     mask_area = (x - center[0]) ** 2 + (y - center[1]) ** 2 <= r * r\n",
    "#     mask[mask_area] = 0\n",
    "\n",
    "#     # Apply mask on shifted FFT\n",
    "#     fft_shift = fft_shift * mask\n",
    "\n",
    "\n",
    "#     f_ishift = np.fft.ifftshift(fft_shift)\n",
    "#     img_back = np.fft.ifft2(f_ishift)\n",
    "#     img_back = np.abs(img_back)\n",
    "    \n",
    "    img = cv2.bilateralFilter(img, d=9, sigmaColor=75, sigmaSpace=75)\n",
    "    \n",
    "    return img\n"
   ]
  },
  {
   "cell_type": "markdown",
   "id": "2d03ea3c",
   "metadata": {
    "id": "x606Ek6FhwHW",
    "papermill": {
     "duration": 0.006219,
     "end_time": "2025-03-02T16:21:56.051415",
     "exception": false,
     "start_time": "2025-03-02T16:21:56.045196",
     "status": "completed"
    },
    "tags": []
   },
   "source": [
    "#Data Extraction"
   ]
  },
  {
   "cell_type": "code",
   "execution_count": 5,
   "id": "def03e92",
   "metadata": {
    "execution": {
     "iopub.execute_input": "2025-03-02T16:21:56.065524Z",
     "iopub.status.busy": "2025-03-02T16:21:56.064918Z",
     "iopub.status.idle": "2025-03-02T16:21:56.069984Z",
     "shell.execute_reply": "2025-03-02T16:21:56.069319Z"
    },
    "id": "Bjal2F7sh19w",
    "papermill": {
     "duration": 0.013744,
     "end_time": "2025-03-02T16:21:56.071460",
     "exception": false,
     "start_time": "2025-03-02T16:21:56.057716",
     "status": "completed"
    },
    "tags": []
   },
   "outputs": [],
   "source": [
    "\n",
    "mstarclass_train=[]\n",
    "\n",
    "# for obj in os.listdir(dir_train):\n",
    "#     print(obj)\n",
    "\n",
    "def create_train():\n",
    "\n",
    "  global mstarclass_train,x_train,y_train\n",
    "  x_train = []\n",
    "  y_train = []\n",
    "\n",
    "  for obj in os.listdir(dir_train):\n",
    "    # print(obj)\n",
    "    if(obj == 'SLICY'):\n",
    "      continue\n",
    "    mstarclass_train.append(obj)\n",
    "    path = os.path.join(dir_train,obj)\n",
    "\n",
    "    for img in os.listdir(path):\n",
    "      img_array = cv2.imread(os.path.join(path,img))\n",
    "      img_array = preprocessing(img_array)\n",
    "\n",
    "\n",
    "\n",
    "      x_train.append(img_array)\n",
    "      y_train.append(mstarclass_train.index(obj))\n",
    "  x_train = np.array(x_train)\n",
    "  y_train = np.array(y_train)\n",
    "  return x_train,y_train\n"
   ]
  },
  {
   "cell_type": "code",
   "execution_count": 6,
   "id": "5ebb0333",
   "metadata": {
    "execution": {
     "iopub.execute_input": "2025-03-02T16:21:56.085170Z",
     "iopub.status.busy": "2025-03-02T16:21:56.084941Z",
     "iopub.status.idle": "2025-03-02T16:21:56.089747Z",
     "shell.execute_reply": "2025-03-02T16:21:56.089136Z"
    },
    "id": "bTcHwGxCh3n8",
    "papermill": {
     "duration": 0.013424,
     "end_time": "2025-03-02T16:21:56.091228",
     "exception": false,
     "start_time": "2025-03-02T16:21:56.077804",
     "status": "completed"
    },
    "tags": []
   },
   "outputs": [],
   "source": [
    "\n",
    "mstarclass_test=[]\n",
    "def create_test():\n",
    "\n",
    "  global mstarclass_test,x_test,y_test\n",
    "  x_test = []\n",
    "  y_test = []\n",
    "  for obj in os.listdir(dir_test):\n",
    "    if(obj == 'SLICY'):\n",
    "      continue\n",
    "    mstarclass_test.append(obj)\n",
    "    path = os.path.join(dir_test,obj)\n",
    "    for img in os.listdir(path):\n",
    "      img_array = cv2.imread(os.path.join(path,img))\n",
    "      img_array = preprocessing(img_array)\n",
    "\n",
    "      x_test.append(img_array)\n",
    "      y_test.append(mstarclass_test.index(obj))\n",
    "  x_test = np.array(x_test)\n",
    "  y_test = np.array(y_test)\n",
    "  return x_test,y_test"
   ]
  },
  {
   "cell_type": "code",
   "execution_count": 7,
   "id": "0752ed93",
   "metadata": {
    "execution": {
     "iopub.execute_input": "2025-03-02T16:21:56.104904Z",
     "iopub.status.busy": "2025-03-02T16:21:56.104666Z",
     "iopub.status.idle": "2025-03-02T16:22:30.315096Z",
     "shell.execute_reply": "2025-03-02T16:22:30.314362Z"
    },
    "id": "I0Rk9hIth6fw",
    "papermill": {
     "duration": 34.219537,
     "end_time": "2025-03-02T16:22:30.317155",
     "exception": false,
     "start_time": "2025-03-02T16:21:56.097618",
     "status": "completed"
    },
    "tags": []
   },
   "outputs": [],
   "source": [
    "x_train,y_train = create_train()\n",
    "x_test,y_test = create_test()"
   ]
  },
  {
   "cell_type": "code",
   "execution_count": 8,
   "id": "9e27de3a",
   "metadata": {
    "execution": {
     "iopub.execute_input": "2025-03-02T16:22:30.331541Z",
     "iopub.status.busy": "2025-03-02T16:22:30.331289Z",
     "iopub.status.idle": "2025-03-02T16:22:31.161848Z",
     "shell.execute_reply": "2025-03-02T16:22:31.161140Z"
    },
    "papermill": {
     "duration": 0.84004,
     "end_time": "2025-03-02T16:22:31.163894",
     "exception": false,
     "start_time": "2025-03-02T16:22:30.323854",
     "status": "completed"
    },
    "tags": []
   },
   "outputs": [],
   "source": [
    "from sklearn.utils import shuffle\n",
    "x_train,y_train = shuffle(x_train,y_train,random_state=42)\n",
    "x_test,y_test = shuffle(x_test,y_test,random_state=27)\n"
   ]
  },
  {
   "cell_type": "markdown",
   "id": "50c0c065",
   "metadata": {
    "id": "BrlS5Im4h_4Y",
    "papermill": {
     "duration": 0.006336,
     "end_time": "2025-03-02T16:22:31.176839",
     "exception": false,
     "start_time": "2025-03-02T16:22:31.170503",
     "status": "completed"
    },
    "tags": []
   },
   "source": [
    "Data Normalization"
   ]
  },
  {
   "cell_type": "code",
   "execution_count": 9,
   "id": "f75ad6c9",
   "metadata": {
    "execution": {
     "iopub.execute_input": "2025-03-02T16:22:31.191509Z",
     "iopub.status.busy": "2025-03-02T16:22:31.190446Z",
     "iopub.status.idle": "2025-03-02T16:22:31.813353Z",
     "shell.execute_reply": "2025-03-02T16:22:31.812517Z"
    },
    "id": "jVQvBVaViCUZ",
    "outputId": "d66398ce-a026-4e3c-c18e-acbacdefb346",
    "papermill": {
     "duration": 0.632257,
     "end_time": "2025-03-02T16:22:31.815290",
     "exception": false,
     "start_time": "2025-03-02T16:22:31.183033",
     "status": "completed"
    },
    "tags": []
   },
   "outputs": [
    {
     "data": {
      "text/plain": [
       "((2425, 128, 128, 3), (2747, 128, 128, 3))"
      ]
     },
     "execution_count": 9,
     "metadata": {},
     "output_type": "execute_result"
    }
   ],
   "source": [
    "x_train , x_test = x_train/255 , x_test/255\n",
    "x_train.shape , x_test.shape"
   ]
  },
  {
   "cell_type": "markdown",
   "id": "adba3a1e",
   "metadata": {
    "id": "r_9IHoZwiFqp",
    "papermill": {
     "duration": 0.006507,
     "end_time": "2025-03-02T16:22:31.828723",
     "exception": false,
     "start_time": "2025-03-02T16:22:31.822216",
     "status": "completed"
    },
    "tags": []
   },
   "source": [
    "One-hot-encoding"
   ]
  },
  {
   "cell_type": "code",
   "execution_count": 10,
   "id": "3b2b4ae6",
   "metadata": {
    "execution": {
     "iopub.execute_input": "2025-03-02T16:22:31.842659Z",
     "iopub.status.busy": "2025-03-02T16:22:31.842405Z",
     "iopub.status.idle": "2025-03-02T16:22:31.847057Z",
     "shell.execute_reply": "2025-03-02T16:22:31.846476Z"
    },
    "id": "DNfb71driJQh",
    "papermill": {
     "duration": 0.013329,
     "end_time": "2025-03-02T16:22:31.848570",
     "exception": false,
     "start_time": "2025-03-02T16:22:31.835241",
     "status": "completed"
    },
    "tags": []
   },
   "outputs": [],
   "source": [
    "y_train_categorical = tf.keras.utils.to_categorical(y_train, num_classes=10)\n",
    "y_test_categorical = tf.keras.utils.to_categorical(y_test, num_classes=10)"
   ]
  },
  {
   "cell_type": "markdown",
   "id": "f1c87ab7",
   "metadata": {
    "id": "_EUtXR7TiVVH",
    "papermill": {
     "duration": 0.00636,
     "end_time": "2025-03-02T16:22:31.861294",
     "exception": false,
     "start_time": "2025-03-02T16:22:31.854934",
     "status": "completed"
    },
    "tags": []
   },
   "source": [
    "#Model Architecture"
   ]
  },
  {
   "cell_type": "markdown",
   "id": "d960c445",
   "metadata": {
    "id": "hnVlkrdkiwPc",
    "papermill": {
     "duration": 0.006102,
     "end_time": "2025-03-02T16:22:31.874002",
     "exception": false,
     "start_time": "2025-03-02T16:22:31.867900",
     "status": "completed"
    },
    "tags": []
   },
   "source": [
    "Common Head"
   ]
  },
  {
   "cell_type": "code",
   "execution_count": 11,
   "id": "aed36b87",
   "metadata": {
    "execution": {
     "iopub.execute_input": "2025-03-02T16:22:31.887894Z",
     "iopub.status.busy": "2025-03-02T16:22:31.887672Z",
     "iopub.status.idle": "2025-03-02T16:22:32.759776Z",
     "shell.execute_reply": "2025-03-02T16:22:32.759139Z"
    },
    "id": "ehPR-Ykdix94",
    "papermill": {
     "duration": 0.881182,
     "end_time": "2025-03-02T16:22:32.761594",
     "exception": false,
     "start_time": "2025-03-02T16:22:31.880412",
     "status": "completed"
    },
    "tags": []
   },
   "outputs": [],
   "source": [
    "input_layer = layers.InputLayer(shape=(128,128,3))\n",
    "\n",
    "x=layers.Conv2D(16,(5,5),strides=(2,2),activation='relu',padding='same')(input_layer.output)\n",
    "x = layers.MaxPooling2D((2,2))(x)\n",
    "x=layers.Conv2D(32,(5,5),strides=(2,2),activation='relu',padding='same')(x)\n",
    "x = layers.MaxPooling2D((2,2))(x)\n",
    "x=layers.Conv2D(64,(5,5),strides=(2,2),activation='relu',padding='same')(x)\n",
    "x= layers.MaxPooling2D((2,2))(x)\n",
    "\n"
   ]
  },
  {
   "cell_type": "markdown",
   "id": "0a179fed",
   "metadata": {
    "id": "By3XMwztjrsf",
    "papermill": {
     "duration": 0.006305,
     "end_time": "2025-03-02T16:22:32.775011",
     "exception": false,
     "start_time": "2025-03-02T16:22:32.768706",
     "status": "completed"
    },
    "tags": []
   },
   "source": [
    "Stream 1"
   ]
  },
  {
   "cell_type": "code",
   "execution_count": 12,
   "id": "c5ffe6f4",
   "metadata": {
    "execution": {
     "iopub.execute_input": "2025-03-02T16:22:32.789114Z",
     "iopub.status.busy": "2025-03-02T16:22:32.788828Z",
     "iopub.status.idle": "2025-03-02T16:22:32.804773Z",
     "shell.execute_reply": "2025-03-02T16:22:32.803854Z"
    },
    "id": "PzqEBQk5jtEh",
    "outputId": "5cca444c-58d6-466d-f823-7aafb4ca9184",
    "papermill": {
     "duration": 0.024959,
     "end_time": "2025-03-02T16:22:32.806417",
     "exception": false,
     "start_time": "2025-03-02T16:22:32.781458",
     "status": "completed"
    },
    "tags": []
   },
   "outputs": [
    {
     "name": "stdout",
     "output_type": "stream",
     "text": [
      "(None, 2, 2, 64)\n",
      "(None, 1, 1, 510)\n",
      "(None, 510)\n",
      "(None, 10)\n"
     ]
    }
   ],
   "source": [
    "print(x.shape)\n",
    "stream1 = layers.Conv2D(510,(1,1),strides=(2,2),activation = 'relu',padding = 'same')(x)\n",
    "print(stream1.shape)\n",
    "stream1 = layers.GlobalMaxPooling2D()(stream1)\n",
    "print(stream1.shape)\n",
    "\n",
    "num_classes = 10\n",
    "feature_per_group= 510//num_classes\n",
    "stream1 = layers.Reshape((feature_per_group,num_classes))(stream1)\n",
    "# print(stream1.shape)\n",
    "#Group average pooling\n",
    "stream1 = layers.GlobalAveragePooling1D()(stream1)\n",
    "\n",
    "print(stream1.shape)\n",
    "\n"
   ]
  },
  {
   "cell_type": "markdown",
   "id": "7a2aa6e8",
   "metadata": {
    "id": "fbo0pJUXxlFy",
    "papermill": {
     "duration": 0.006359,
     "end_time": "2025-03-02T16:22:32.819197",
     "exception": false,
     "start_time": "2025-03-02T16:22:32.812838",
     "status": "completed"
    },
    "tags": []
   },
   "source": [
    "Stream 2"
   ]
  },
  {
   "cell_type": "code",
   "execution_count": 13,
   "id": "c5ef05fe",
   "metadata": {
    "execution": {
     "iopub.execute_input": "2025-03-02T16:22:32.833025Z",
     "iopub.status.busy": "2025-03-02T16:22:32.832777Z",
     "iopub.status.idle": "2025-03-02T16:22:32.869228Z",
     "shell.execute_reply": "2025-03-02T16:22:32.868419Z"
    },
    "id": "absfs-_PxmHx",
    "papermill": {
     "duration": 0.045111,
     "end_time": "2025-03-02T16:22:32.870811",
     "exception": false,
     "start_time": "2025-03-02T16:22:32.825700",
     "status": "completed"
    },
    "tags": []
   },
   "outputs": [],
   "source": [
    "Stream2 = layers.Conv2D(32,(3,3),strides=(3,3),activation='relu',padding='same')(x)\n",
    "# stream2 = layers.MaxPooling2D((2,2))(Stream2)\n",
    "# Stream2 = layers.Conv2D(64,(3,3),strides=(3,3),activation='relu',padding='same')(Stream2)\n",
    "# stream2=  layers.MaxPooling2D((2,2))(Stream2)\n",
    "\n",
    "stream2 = layers.GlobalMaxPooling2D()(Stream2)\n",
    "\n",
    "# stream2 = layers.Dense(64,activation='relu')(stream2)\n",
    "\n",
    "# stream2 = layers.Dense(128,activation='relu')(stream2)\n",
    "# stream2 = layers.Dense(64,activation='relu')(stream2)\n",
    "# stream2 = layers.Dense(64,activation='relu')(stream2)\n",
    "# stream2 = layers.Dense(128,activation='relu')(stream2)\n",
    "# stream2 = layers.Dense(128,activation='relu')(stream2)\n",
    "\n",
    "stream2 = layers.Dense(256,activation='relu')(stream2)\n",
    "stream2 = layers.Dense(128,activation='relu')(stream2)\n",
    "stream2 = layers.Dense(128,activation='relu')(stream2)\n",
    "\n",
    "\n",
    "\n",
    "\n",
    "stream2 = layers.Dropout(0.2)(stream2)\n"
   ]
  },
  {
   "cell_type": "markdown",
   "id": "cc0e7c1e",
   "metadata": {
    "id": "hz0KLrhN19B4",
    "papermill": {
     "duration": 0.00626,
     "end_time": "2025-03-02T16:22:32.883568",
     "exception": false,
     "start_time": "2025-03-02T16:22:32.877308",
     "status": "completed"
    },
    "tags": []
   },
   "source": [
    "Classification"
   ]
  },
  {
   "cell_type": "code",
   "execution_count": 14,
   "id": "29bf4517",
   "metadata": {
    "execution": {
     "iopub.execute_input": "2025-03-02T16:22:32.897574Z",
     "iopub.status.busy": "2025-03-02T16:22:32.897348Z",
     "iopub.status.idle": "2025-03-02T16:22:32.908908Z",
     "shell.execute_reply": "2025-03-02T16:22:32.908335Z"
    },
    "id": "EBGp9oh11_WR",
    "papermill": {
     "duration": 0.020388,
     "end_time": "2025-03-02T16:22:32.910544",
     "exception": false,
     "start_time": "2025-03-02T16:22:32.890156",
     "status": "completed"
    },
    "tags": []
   },
   "outputs": [],
   "source": [
    "merged = layers.Concatenate()([stream1,stream2])\n",
    "classification = layers.Dense(10,activation='softmax')(merged)"
   ]
  },
  {
   "cell_type": "markdown",
   "id": "d52bdd47",
   "metadata": {
    "id": "E5OvVWqy2y8Z",
    "papermill": {
     "duration": 0.006379,
     "end_time": "2025-03-02T16:22:32.923424",
     "exception": false,
     "start_time": "2025-03-02T16:22:32.917045",
     "status": "completed"
    },
    "tags": []
   },
   "source": [
    "##Model compilation"
   ]
  },
  {
   "cell_type": "code",
   "execution_count": 15,
   "id": "89d65ee6",
   "metadata": {
    "execution": {
     "iopub.execute_input": "2025-03-02T16:22:32.937364Z",
     "iopub.status.busy": "2025-03-02T16:22:32.937149Z",
     "iopub.status.idle": "2025-03-02T16:22:32.954075Z",
     "shell.execute_reply": "2025-03-02T16:22:32.953505Z"
    },
    "id": "Eh9MBoW521be",
    "papermill": {
     "duration": 0.025657,
     "end_time": "2025-03-02T16:22:32.955656",
     "exception": false,
     "start_time": "2025-03-02T16:22:32.929999",
     "status": "completed"
    },
    "tags": []
   },
   "outputs": [],
   "source": [
    "from tensorflow.keras.optimizers import Adam\n",
    "model = models.Model(inputs=input_layer.output,outputs=classification)\n",
    "# optimizer = Adam(learning_rate=0.0001,beta_1=0.9,beta_2=0.999)\n",
    "model.compile(optimizer='Adam',\n",
    "              loss=tf.keras.losses.sparse_categorical_crossentropy,\n",
    "              metrics=['accuracy'])"
   ]
  },
  {
   "cell_type": "markdown",
   "id": "5b278175",
   "metadata": {
    "id": "Hd__xXyC2-p7",
    "papermill": {
     "duration": 0.006315,
     "end_time": "2025-03-02T16:22:32.968354",
     "exception": false,
     "start_time": "2025-03-02T16:22:32.962039",
     "status": "completed"
    },
    "tags": []
   },
   "source": [
    "##Data Augumentation"
   ]
  },
  {
   "cell_type": "code",
   "execution_count": null,
   "id": "0d4aad20",
   "metadata": {
    "papermill": {
     "duration": 0.006371,
     "end_time": "2025-03-02T16:22:32.981168",
     "exception": false,
     "start_time": "2025-03-02T16:22:32.974797",
     "status": "completed"
    },
    "tags": []
   },
   "outputs": [],
   "source": []
  },
  {
   "cell_type": "markdown",
   "id": "b18f8d95",
   "metadata": {
    "id": "eO56fyUK27CG",
    "papermill": {
     "duration": 0.0062,
     "end_time": "2025-03-02T16:22:32.993793",
     "exception": false,
     "start_time": "2025-03-02T16:22:32.987593",
     "status": "completed"
    },
    "tags": []
   },
   "source": [
    "##Model Training"
   ]
  },
  {
   "cell_type": "code",
   "execution_count": 16,
   "id": "1dae5144",
   "metadata": {
    "execution": {
     "iopub.execute_input": "2025-03-02T16:22:33.007798Z",
     "iopub.status.busy": "2025-03-02T16:22:33.007579Z",
     "iopub.status.idle": "2025-03-02T16:23:16.875775Z",
     "shell.execute_reply": "2025-03-02T16:23:16.874738Z"
    },
    "id": "WVFca9LT3DAj",
    "outputId": "96774dfe-ddbd-4d54-b7fe-1ffa53c5f2bd",
    "papermill": {
     "duration": 43.877452,
     "end_time": "2025-03-02T16:23:16.877896",
     "exception": false,
     "start_time": "2025-03-02T16:22:33.000444",
     "status": "completed"
    },
    "tags": []
   },
   "outputs": [
    {
     "name": "stdout",
     "output_type": "stream",
     "text": [
      "Epoch 1/100\n"
     ]
    },
    {
     "name": "stderr",
     "output_type": "stream",
     "text": [
      "WARNING: All log messages before absl::InitializeLog() is called are written to STDERR\n",
      "I0000 00:00:1740932556.627103      64 service.cc:145] XLA service 0x7f3a5c054030 initialized for platform CUDA (this does not guarantee that XLA will be used). Devices:\n",
      "I0000 00:00:1740932556.627164      64 service.cc:153]   StreamExecutor device (0): Tesla P100-PCIE-16GB, Compute Capability 6.0\n"
     ]
    },
    {
     "name": "stdout",
     "output_type": "stream",
     "text": [
      "\u001b[1m30/76\u001b[0m \u001b[32m━━━━━━━\u001b[0m\u001b[37m━━━━━━━━━━━━━\u001b[0m \u001b[1m0s\u001b[0m 5ms/step - accuracy: 0.1523 - loss: 2.2870"
     ]
    },
    {
     "name": "stderr",
     "output_type": "stream",
     "text": [
      "I0000 00:00:1740932561.132510      64 device_compiler.h:188] Compiled cluster using XLA!  This line is logged at most once for the lifetime of the process.\n"
     ]
    },
    {
     "name": "stdout",
     "output_type": "stream",
     "text": [
      "\u001b[1m76/76\u001b[0m \u001b[32m━━━━━━━━━━━━━━━━━━━━\u001b[0m\u001b[37m\u001b[0m \u001b[1m19s\u001b[0m 161ms/step - accuracy: 0.1857 - loss: 2.1522 - val_accuracy: 0.3353 - val_loss: 1.6647\n",
      "Epoch 2/100\n",
      "\u001b[1m76/76\u001b[0m \u001b[32m━━━━━━━━━━━━━━━━━━━━\u001b[0m\u001b[37m\u001b[0m \u001b[1m1s\u001b[0m 9ms/step - accuracy: 0.3199 - loss: 1.6470 - val_accuracy: 0.4092 - val_loss: 1.4028\n",
      "Epoch 3/100\n",
      "\u001b[1m76/76\u001b[0m \u001b[32m━━━━━━━━━━━━━━━━━━━━\u001b[0m\u001b[37m\u001b[0m \u001b[1m1s\u001b[0m 9ms/step - accuracy: 0.5015 - loss: 1.2518 - val_accuracy: 0.4547 - val_loss: 1.2876\n",
      "Epoch 4/100\n",
      "\u001b[1m76/76\u001b[0m \u001b[32m━━━━━━━━━━━━━━━━━━━━\u001b[0m\u001b[37m\u001b[0m \u001b[1m1s\u001b[0m 9ms/step - accuracy: 0.6738 - loss: 0.8493 - val_accuracy: 0.6986 - val_loss: 0.8561\n",
      "Epoch 5/100\n",
      "\u001b[1m76/76\u001b[0m \u001b[32m━━━━━━━━━━━━━━━━━━━━\u001b[0m\u001b[37m\u001b[0m \u001b[1m1s\u001b[0m 9ms/step - accuracy: 0.7906 - loss: 0.5812 - val_accuracy: 0.7499 - val_loss: 0.6966\n",
      "Epoch 6/100\n",
      "\u001b[1m76/76\u001b[0m \u001b[32m━━━━━━━━━━━━━━━━━━━━\u001b[0m\u001b[37m\u001b[0m \u001b[1m1s\u001b[0m 9ms/step - accuracy: 0.8348 - loss: 0.4291 - val_accuracy: 0.8478 - val_loss: 0.4393\n",
      "Epoch 7/100\n",
      "\u001b[1m76/76\u001b[0m \u001b[32m━━━━━━━━━━━━━━━━━━━━\u001b[0m\u001b[37m\u001b[0m \u001b[1m1s\u001b[0m 9ms/step - accuracy: 0.8959 - loss: 0.3099 - val_accuracy: 0.8413 - val_loss: 0.4287\n",
      "Epoch 8/100\n",
      "\u001b[1m76/76\u001b[0m \u001b[32m━━━━━━━━━━━━━━━━━━━━\u001b[0m\u001b[37m\u001b[0m \u001b[1m1s\u001b[0m 9ms/step - accuracy: 0.9349 - loss: 0.1987 - val_accuracy: 0.8264 - val_loss: 0.5475\n",
      "Epoch 9/100\n",
      "\u001b[1m76/76\u001b[0m \u001b[32m━━━━━━━━━━━━━━━━━━━━\u001b[0m\u001b[37m\u001b[0m \u001b[1m1s\u001b[0m 9ms/step - accuracy: 0.9501 - loss: 0.1420 - val_accuracy: 0.7921 - val_loss: 0.7043\n",
      "Epoch 10/100\n",
      "\u001b[1m76/76\u001b[0m \u001b[32m━━━━━━━━━━━━━━━━━━━━\u001b[0m\u001b[37m\u001b[0m \u001b[1m1s\u001b[0m 9ms/step - accuracy: 0.9561 - loss: 0.1395 - val_accuracy: 0.8791 - val_loss: 0.4108\n",
      "Epoch 11/100\n",
      "\u001b[1m76/76\u001b[0m \u001b[32m━━━━━━━━━━━━━━━━━━━━\u001b[0m\u001b[37m\u001b[0m \u001b[1m1s\u001b[0m 9ms/step - accuracy: 0.9705 - loss: 0.0914 - val_accuracy: 0.8744 - val_loss: 0.4488\n",
      "Epoch 12/100\n",
      "\u001b[1m76/76\u001b[0m \u001b[32m━━━━━━━━━━━━━━━━━━━━\u001b[0m\u001b[37m\u001b[0m \u001b[1m1s\u001b[0m 9ms/step - accuracy: 0.9675 - loss: 0.0904 - val_accuracy: 0.8930 - val_loss: 0.3577\n",
      "Epoch 13/100\n",
      "\u001b[1m76/76\u001b[0m \u001b[32m━━━━━━━━━━━━━━━━━━━━\u001b[0m\u001b[37m\u001b[0m \u001b[1m1s\u001b[0m 9ms/step - accuracy: 0.9853 - loss: 0.0407 - val_accuracy: 0.8598 - val_loss: 0.4932\n",
      "Epoch 14/100\n",
      "\u001b[1m76/76\u001b[0m \u001b[32m━━━━━━━━━━━━━━━━━━━━\u001b[0m\u001b[37m\u001b[0m \u001b[1m1s\u001b[0m 9ms/step - accuracy: 0.9834 - loss: 0.0580 - val_accuracy: 0.9476 - val_loss: 0.1910\n",
      "Epoch 15/100\n",
      "\u001b[1m76/76\u001b[0m \u001b[32m━━━━━━━━━━━━━━━━━━━━\u001b[0m\u001b[37m\u001b[0m \u001b[1m1s\u001b[0m 9ms/step - accuracy: 0.9805 - loss: 0.0634 - val_accuracy: 0.8395 - val_loss: 0.6178\n",
      "Epoch 16/100\n",
      "\u001b[1m76/76\u001b[0m \u001b[32m━━━━━━━━━━━━━━━━━━━━\u001b[0m\u001b[37m\u001b[0m \u001b[1m1s\u001b[0m 9ms/step - accuracy: 0.9860 - loss: 0.0468 - val_accuracy: 0.8253 - val_loss: 0.6884\n",
      "Epoch 17/100\n",
      "\u001b[1m76/76\u001b[0m \u001b[32m━━━━━━━━━━━━━━━━━━━━\u001b[0m\u001b[37m\u001b[0m \u001b[1m1s\u001b[0m 9ms/step - accuracy: 0.9848 - loss: 0.0492 - val_accuracy: 0.8224 - val_loss: 0.7254\n",
      "Epoch 18/100\n",
      "\u001b[1m76/76\u001b[0m \u001b[32m━━━━━━━━━━━━━━━━━━━━\u001b[0m\u001b[37m\u001b[0m \u001b[1m1s\u001b[0m 10ms/step - accuracy: 0.9818 - loss: 0.0613 - val_accuracy: 0.9530 - val_loss: 0.1598\n",
      "Epoch 19/100\n",
      "\u001b[1m76/76\u001b[0m \u001b[32m━━━━━━━━━━━━━━━━━━━━\u001b[0m\u001b[37m\u001b[0m \u001b[1m1s\u001b[0m 10ms/step - accuracy: 0.9616 - loss: 0.1130 - val_accuracy: 0.9137 - val_loss: 0.3132\n",
      "Epoch 20/100\n",
      "\u001b[1m76/76\u001b[0m \u001b[32m━━━━━━━━━━━━━━━━━━━━\u001b[0m\u001b[37m\u001b[0m \u001b[1m1s\u001b[0m 10ms/step - accuracy: 0.9841 - loss: 0.0415 - val_accuracy: 0.9119 - val_loss: 0.3767\n",
      "Epoch 21/100\n",
      "\u001b[1m76/76\u001b[0m \u001b[32m━━━━━━━━━━━━━━━━━━━━\u001b[0m\u001b[37m\u001b[0m \u001b[1m1s\u001b[0m 10ms/step - accuracy: 0.9858 - loss: 0.0441 - val_accuracy: 0.9104 - val_loss: 0.3181\n",
      "Epoch 22/100\n",
      "\u001b[1m76/76\u001b[0m \u001b[32m━━━━━━━━━━━━━━━━━━━━\u001b[0m\u001b[37m\u001b[0m \u001b[1m1s\u001b[0m 9ms/step - accuracy: 0.9759 - loss: 0.0698 - val_accuracy: 0.8919 - val_loss: 0.4545\n",
      "Epoch 23/100\n",
      "\u001b[1m76/76\u001b[0m \u001b[32m━━━━━━━━━━━━━━━━━━━━\u001b[0m\u001b[37m\u001b[0m \u001b[1m1s\u001b[0m 9ms/step - accuracy: 0.9989 - loss: 0.0079 - val_accuracy: 0.9345 - val_loss: 0.2680\n",
      "Epoch 24/100\n",
      "\u001b[1m76/76\u001b[0m \u001b[32m━━━━━━━━━━━━━━━━━━━━\u001b[0m\u001b[37m\u001b[0m \u001b[1m1s\u001b[0m 9ms/step - accuracy: 0.9960 - loss: 0.0138 - val_accuracy: 0.8850 - val_loss: 0.6538\n",
      "Epoch 25/100\n",
      "\u001b[1m76/76\u001b[0m \u001b[32m━━━━━━━━━━━━━━━━━━━━\u001b[0m\u001b[37m\u001b[0m \u001b[1m1s\u001b[0m 9ms/step - accuracy: 0.9952 - loss: 0.0155 - val_accuracy: 0.8908 - val_loss: 0.4821\n",
      "Epoch 26/100\n",
      "\u001b[1m76/76\u001b[0m \u001b[32m━━━━━━━━━━━━━━━━━━━━\u001b[0m\u001b[37m\u001b[0m \u001b[1m1s\u001b[0m 10ms/step - accuracy: 0.9719 - loss: 0.0960 - val_accuracy: 0.9265 - val_loss: 0.2821\n",
      "Epoch 27/100\n",
      "\u001b[1m76/76\u001b[0m \u001b[32m━━━━━━━━━━━━━━━━━━━━\u001b[0m\u001b[37m\u001b[0m \u001b[1m1s\u001b[0m 9ms/step - accuracy: 0.9979 - loss: 0.0109 - val_accuracy: 0.9418 - val_loss: 0.2527\n",
      "Epoch 28/100\n",
      "\u001b[1m76/76\u001b[0m \u001b[32m━━━━━━━━━━━━━━━━━━━━\u001b[0m\u001b[37m\u001b[0m \u001b[1m1s\u001b[0m 10ms/step - accuracy: 0.9976 - loss: 0.0062 - val_accuracy: 0.9450 - val_loss: 0.2486\n",
      "Epoch 29/100\n",
      "\u001b[1m76/76\u001b[0m \u001b[32m━━━━━━━━━━━━━━━━━━━━\u001b[0m\u001b[37m\u001b[0m \u001b[1m1s\u001b[0m 10ms/step - accuracy: 1.0000 - loss: 0.0011 - val_accuracy: 0.9479 - val_loss: 0.2433\n",
      "Epoch 30/100\n",
      "\u001b[1m76/76\u001b[0m \u001b[32m━━━━━━━━━━━━━━━━━━━━\u001b[0m\u001b[37m\u001b[0m \u001b[1m1s\u001b[0m 9ms/step - accuracy: 1.0000 - loss: 3.2728e-04 - val_accuracy: 0.9494 - val_loss: 0.2518\n",
      "Epoch 31/100\n",
      "\u001b[1m76/76\u001b[0m \u001b[32m━━━━━━━━━━━━━━━━━━━━\u001b[0m\u001b[37m\u001b[0m \u001b[1m1s\u001b[0m 10ms/step - accuracy: 1.0000 - loss: 3.6371e-04 - val_accuracy: 0.9469 - val_loss: 0.2848\n",
      "Epoch 32/100\n",
      "\u001b[1m76/76\u001b[0m \u001b[32m━━━━━━━━━━━━━━━━━━━━\u001b[0m\u001b[37m\u001b[0m \u001b[1m1s\u001b[0m 9ms/step - accuracy: 1.0000 - loss: 2.1183e-04 - val_accuracy: 0.9443 - val_loss: 0.3226\n",
      "Epoch 33/100\n",
      "\u001b[1m76/76\u001b[0m \u001b[32m━━━━━━━━━━━━━━━━━━━━\u001b[0m\u001b[37m\u001b[0m \u001b[1m1s\u001b[0m 9ms/step - accuracy: 1.0000 - loss: 1.3797e-04 - val_accuracy: 0.9450 - val_loss: 0.3267\n"
     ]
    },
    {
     "data": {
      "text/plain": [
       "<keras.src.callbacks.history.History at 0x7f3b337b3af0>"
      ]
     },
     "execution_count": 16,
     "metadata": {},
     "output_type": "execute_result"
    }
   ],
   "source": [
    "from tensorflow.keras.callbacks import EarlyStopping,ModelCheckpoint\n",
    "from tensorflow.keras.callbacks import EarlyStopping,ModelCheckpoint\n",
    "# model_checkpoint = ModelCheckpoint('twostreamcnn1.keras', monitor='val_accuracy', save_best_only=True)\n",
    "early_stopping = EarlyStopping(monitor='val_accuracy', patience=15,restore_best_weights=True)\n",
    "model.fit(x_train,y_train,shuffle=True,epochs=100,callbacks=[early_stopping],batch_size=32,validation_data=(x_test,y_test))\n"
   ]
  },
  {
   "cell_type": "markdown",
   "id": "fd057bc6",
   "metadata": {
    "id": "p0KODFJV3Rqo",
    "papermill": {
     "duration": 0.023409,
     "end_time": "2025-03-02T16:23:16.925353",
     "exception": false,
     "start_time": "2025-03-02T16:23:16.901944",
     "status": "completed"
    },
    "tags": []
   },
   "source": [
    "#Model Evaluation"
   ]
  },
  {
   "cell_type": "code",
   "execution_count": 17,
   "id": "1c082d98",
   "metadata": {
    "execution": {
     "iopub.execute_input": "2025-03-02T16:23:16.974021Z",
     "iopub.status.busy": "2025-03-02T16:23:16.973716Z",
     "iopub.status.idle": "2025-03-02T16:23:19.031479Z",
     "shell.execute_reply": "2025-03-02T16:23:19.030624Z"
    },
    "papermill": {
     "duration": 2.084691,
     "end_time": "2025-03-02T16:23:19.033768",
     "exception": false,
     "start_time": "2025-03-02T16:23:16.949077",
     "status": "completed"
    },
    "tags": []
   },
   "outputs": [
    {
     "name": "stdout",
     "output_type": "stream",
     "text": [
      "\u001b[1m86/86\u001b[0m \u001b[32m━━━━━━━━━━━━━━━━━━━━\u001b[0m\u001b[37m\u001b[0m \u001b[1m0s\u001b[0m 4ms/step - accuracy: 0.9538 - loss: 0.1627\n"
     ]
    },
    {
     "data": {
      "text/html": [
       "<pre style=\"white-space:pre;overflow-x:auto;line-height:normal;font-family:Menlo,'DejaVu Sans Mono',consolas,'Courier New',monospace\"><span style=\"font-weight: bold\">Model: \"functional_1\"</span>\n",
       "</pre>\n"
      ],
      "text/plain": [
       "\u001b[1mModel: \"functional_1\"\u001b[0m\n"
      ]
     },
     "metadata": {},
     "output_type": "display_data"
    },
    {
     "data": {
      "text/html": [
       "<pre style=\"white-space:pre;overflow-x:auto;line-height:normal;font-family:Menlo,'DejaVu Sans Mono',consolas,'Courier New',monospace\">┏━━━━━━━━━━━━━━━━━━━━━┳━━━━━━━━━━━━━━━━━━━┳━━━━━━━━━━━━┳━━━━━━━━━━━━━━━━━━━┓\n",
       "┃<span style=\"font-weight: bold\"> Layer (type)        </span>┃<span style=\"font-weight: bold\"> Output Shape      </span>┃<span style=\"font-weight: bold\">    Param # </span>┃<span style=\"font-weight: bold\"> Connected to      </span>┃\n",
       "┡━━━━━━━━━━━━━━━━━━━━━╇━━━━━━━━━━━━━━━━━━━╇━━━━━━━━━━━━╇━━━━━━━━━━━━━━━━━━━┩\n",
       "│ input_layer         │ (<span style=\"color: #00d7ff; text-decoration-color: #00d7ff\">None</span>, <span style=\"color: #00af00; text-decoration-color: #00af00\">128</span>, <span style=\"color: #00af00; text-decoration-color: #00af00\">128</span>,  │          <span style=\"color: #00af00; text-decoration-color: #00af00\">0</span> │ -                 │\n",
       "│ (<span style=\"color: #0087ff; text-decoration-color: #0087ff\">InputLayer</span>)        │ <span style=\"color: #00af00; text-decoration-color: #00af00\">3</span>)                │            │                   │\n",
       "├─────────────────────┼───────────────────┼────────────┼───────────────────┤\n",
       "│ conv2d (<span style=\"color: #0087ff; text-decoration-color: #0087ff\">Conv2D</span>)     │ (<span style=\"color: #00d7ff; text-decoration-color: #00d7ff\">None</span>, <span style=\"color: #00af00; text-decoration-color: #00af00\">64</span>, <span style=\"color: #00af00; text-decoration-color: #00af00\">64</span>,    │      <span style=\"color: #00af00; text-decoration-color: #00af00\">1,216</span> │ input_layer[<span style=\"color: #00af00; text-decoration-color: #00af00\">0</span>][<span style=\"color: #00af00; text-decoration-color: #00af00\">0</span>] │\n",
       "│                     │ <span style=\"color: #00af00; text-decoration-color: #00af00\">16</span>)               │            │                   │\n",
       "├─────────────────────┼───────────────────┼────────────┼───────────────────┤\n",
       "│ max_pooling2d       │ (<span style=\"color: #00d7ff; text-decoration-color: #00d7ff\">None</span>, <span style=\"color: #00af00; text-decoration-color: #00af00\">32</span>, <span style=\"color: #00af00; text-decoration-color: #00af00\">32</span>,    │          <span style=\"color: #00af00; text-decoration-color: #00af00\">0</span> │ conv2d[<span style=\"color: #00af00; text-decoration-color: #00af00\">0</span>][<span style=\"color: #00af00; text-decoration-color: #00af00\">0</span>]      │\n",
       "│ (<span style=\"color: #0087ff; text-decoration-color: #0087ff\">MaxPooling2D</span>)      │ <span style=\"color: #00af00; text-decoration-color: #00af00\">16</span>)               │            │                   │\n",
       "├─────────────────────┼───────────────────┼────────────┼───────────────────┤\n",
       "│ conv2d_1 (<span style=\"color: #0087ff; text-decoration-color: #0087ff\">Conv2D</span>)   │ (<span style=\"color: #00d7ff; text-decoration-color: #00d7ff\">None</span>, <span style=\"color: #00af00; text-decoration-color: #00af00\">16</span>, <span style=\"color: #00af00; text-decoration-color: #00af00\">16</span>,    │     <span style=\"color: #00af00; text-decoration-color: #00af00\">12,832</span> │ max_pooling2d[<span style=\"color: #00af00; text-decoration-color: #00af00\">0</span>]… │\n",
       "│                     │ <span style=\"color: #00af00; text-decoration-color: #00af00\">32</span>)               │            │                   │\n",
       "├─────────────────────┼───────────────────┼────────────┼───────────────────┤\n",
       "│ max_pooling2d_1     │ (<span style=\"color: #00d7ff; text-decoration-color: #00d7ff\">None</span>, <span style=\"color: #00af00; text-decoration-color: #00af00\">8</span>, <span style=\"color: #00af00; text-decoration-color: #00af00\">8</span>, <span style=\"color: #00af00; text-decoration-color: #00af00\">32</span>)  │          <span style=\"color: #00af00; text-decoration-color: #00af00\">0</span> │ conv2d_1[<span style=\"color: #00af00; text-decoration-color: #00af00\">0</span>][<span style=\"color: #00af00; text-decoration-color: #00af00\">0</span>]    │\n",
       "│ (<span style=\"color: #0087ff; text-decoration-color: #0087ff\">MaxPooling2D</span>)      │                   │            │                   │\n",
       "├─────────────────────┼───────────────────┼────────────┼───────────────────┤\n",
       "│ conv2d_2 (<span style=\"color: #0087ff; text-decoration-color: #0087ff\">Conv2D</span>)   │ (<span style=\"color: #00d7ff; text-decoration-color: #00d7ff\">None</span>, <span style=\"color: #00af00; text-decoration-color: #00af00\">4</span>, <span style=\"color: #00af00; text-decoration-color: #00af00\">4</span>, <span style=\"color: #00af00; text-decoration-color: #00af00\">64</span>)  │     <span style=\"color: #00af00; text-decoration-color: #00af00\">51,264</span> │ max_pooling2d_1[<span style=\"color: #00af00; text-decoration-color: #00af00\">…</span> │\n",
       "├─────────────────────┼───────────────────┼────────────┼───────────────────┤\n",
       "│ max_pooling2d_2     │ (<span style=\"color: #00d7ff; text-decoration-color: #00d7ff\">None</span>, <span style=\"color: #00af00; text-decoration-color: #00af00\">2</span>, <span style=\"color: #00af00; text-decoration-color: #00af00\">2</span>, <span style=\"color: #00af00; text-decoration-color: #00af00\">64</span>)  │          <span style=\"color: #00af00; text-decoration-color: #00af00\">0</span> │ conv2d_2[<span style=\"color: #00af00; text-decoration-color: #00af00\">0</span>][<span style=\"color: #00af00; text-decoration-color: #00af00\">0</span>]    │\n",
       "│ (<span style=\"color: #0087ff; text-decoration-color: #0087ff\">MaxPooling2D</span>)      │                   │            │                   │\n",
       "├─────────────────────┼───────────────────┼────────────┼───────────────────┤\n",
       "│ conv2d_4 (<span style=\"color: #0087ff; text-decoration-color: #0087ff\">Conv2D</span>)   │ (<span style=\"color: #00d7ff; text-decoration-color: #00d7ff\">None</span>, <span style=\"color: #00af00; text-decoration-color: #00af00\">1</span>, <span style=\"color: #00af00; text-decoration-color: #00af00\">1</span>, <span style=\"color: #00af00; text-decoration-color: #00af00\">32</span>)  │     <span style=\"color: #00af00; text-decoration-color: #00af00\">18,464</span> │ max_pooling2d_2[<span style=\"color: #00af00; text-decoration-color: #00af00\">…</span> │\n",
       "├─────────────────────┼───────────────────┼────────────┼───────────────────┤\n",
       "│ global_max_pooling… │ (<span style=\"color: #00d7ff; text-decoration-color: #00d7ff\">None</span>, <span style=\"color: #00af00; text-decoration-color: #00af00\">32</span>)        │          <span style=\"color: #00af00; text-decoration-color: #00af00\">0</span> │ conv2d_4[<span style=\"color: #00af00; text-decoration-color: #00af00\">0</span>][<span style=\"color: #00af00; text-decoration-color: #00af00\">0</span>]    │\n",
       "│ (<span style=\"color: #0087ff; text-decoration-color: #0087ff\">GlobalMaxPooling2…</span> │                   │            │                   │\n",
       "├─────────────────────┼───────────────────┼────────────┼───────────────────┤\n",
       "│ conv2d_3 (<span style=\"color: #0087ff; text-decoration-color: #0087ff\">Conv2D</span>)   │ (<span style=\"color: #00d7ff; text-decoration-color: #00d7ff\">None</span>, <span style=\"color: #00af00; text-decoration-color: #00af00\">1</span>, <span style=\"color: #00af00; text-decoration-color: #00af00\">1</span>, <span style=\"color: #00af00; text-decoration-color: #00af00\">510</span>) │     <span style=\"color: #00af00; text-decoration-color: #00af00\">33,150</span> │ max_pooling2d_2[<span style=\"color: #00af00; text-decoration-color: #00af00\">…</span> │\n",
       "├─────────────────────┼───────────────────┼────────────┼───────────────────┤\n",
       "│ dense (<span style=\"color: #0087ff; text-decoration-color: #0087ff\">Dense</span>)       │ (<span style=\"color: #00d7ff; text-decoration-color: #00d7ff\">None</span>, <span style=\"color: #00af00; text-decoration-color: #00af00\">256</span>)       │      <span style=\"color: #00af00; text-decoration-color: #00af00\">8,448</span> │ global_max_pooli… │\n",
       "├─────────────────────┼───────────────────┼────────────┼───────────────────┤\n",
       "│ global_max_pooling… │ (<span style=\"color: #00d7ff; text-decoration-color: #00d7ff\">None</span>, <span style=\"color: #00af00; text-decoration-color: #00af00\">510</span>)       │          <span style=\"color: #00af00; text-decoration-color: #00af00\">0</span> │ conv2d_3[<span style=\"color: #00af00; text-decoration-color: #00af00\">0</span>][<span style=\"color: #00af00; text-decoration-color: #00af00\">0</span>]    │\n",
       "│ (<span style=\"color: #0087ff; text-decoration-color: #0087ff\">GlobalMaxPooling2…</span> │                   │            │                   │\n",
       "├─────────────────────┼───────────────────┼────────────┼───────────────────┤\n",
       "│ dense_1 (<span style=\"color: #0087ff; text-decoration-color: #0087ff\">Dense</span>)     │ (<span style=\"color: #00d7ff; text-decoration-color: #00d7ff\">None</span>, <span style=\"color: #00af00; text-decoration-color: #00af00\">128</span>)       │     <span style=\"color: #00af00; text-decoration-color: #00af00\">32,896</span> │ dense[<span style=\"color: #00af00; text-decoration-color: #00af00\">0</span>][<span style=\"color: #00af00; text-decoration-color: #00af00\">0</span>]       │\n",
       "├─────────────────────┼───────────────────┼────────────┼───────────────────┤\n",
       "│ reshape (<span style=\"color: #0087ff; text-decoration-color: #0087ff\">Reshape</span>)   │ (<span style=\"color: #00d7ff; text-decoration-color: #00d7ff\">None</span>, <span style=\"color: #00af00; text-decoration-color: #00af00\">51</span>, <span style=\"color: #00af00; text-decoration-color: #00af00\">10</span>)    │          <span style=\"color: #00af00; text-decoration-color: #00af00\">0</span> │ global_max_pooli… │\n",
       "├─────────────────────┼───────────────────┼────────────┼───────────────────┤\n",
       "│ dense_2 (<span style=\"color: #0087ff; text-decoration-color: #0087ff\">Dense</span>)     │ (<span style=\"color: #00d7ff; text-decoration-color: #00d7ff\">None</span>, <span style=\"color: #00af00; text-decoration-color: #00af00\">128</span>)       │     <span style=\"color: #00af00; text-decoration-color: #00af00\">16,512</span> │ dense_1[<span style=\"color: #00af00; text-decoration-color: #00af00\">0</span>][<span style=\"color: #00af00; text-decoration-color: #00af00\">0</span>]     │\n",
       "├─────────────────────┼───────────────────┼────────────┼───────────────────┤\n",
       "│ global_average_poo… │ (<span style=\"color: #00d7ff; text-decoration-color: #00d7ff\">None</span>, <span style=\"color: #00af00; text-decoration-color: #00af00\">10</span>)        │          <span style=\"color: #00af00; text-decoration-color: #00af00\">0</span> │ reshape[<span style=\"color: #00af00; text-decoration-color: #00af00\">0</span>][<span style=\"color: #00af00; text-decoration-color: #00af00\">0</span>]     │\n",
       "│ (<span style=\"color: #0087ff; text-decoration-color: #0087ff\">GlobalAveragePool…</span> │                   │            │                   │\n",
       "├─────────────────────┼───────────────────┼────────────┼───────────────────┤\n",
       "│ dropout (<span style=\"color: #0087ff; text-decoration-color: #0087ff\">Dropout</span>)   │ (<span style=\"color: #00d7ff; text-decoration-color: #00d7ff\">None</span>, <span style=\"color: #00af00; text-decoration-color: #00af00\">128</span>)       │          <span style=\"color: #00af00; text-decoration-color: #00af00\">0</span> │ dense_2[<span style=\"color: #00af00; text-decoration-color: #00af00\">0</span>][<span style=\"color: #00af00; text-decoration-color: #00af00\">0</span>]     │\n",
       "├─────────────────────┼───────────────────┼────────────┼───────────────────┤\n",
       "│ concatenate         │ (<span style=\"color: #00d7ff; text-decoration-color: #00d7ff\">None</span>, <span style=\"color: #00af00; text-decoration-color: #00af00\">138</span>)       │          <span style=\"color: #00af00; text-decoration-color: #00af00\">0</span> │ global_average_p… │\n",
       "│ (<span style=\"color: #0087ff; text-decoration-color: #0087ff\">Concatenate</span>)       │                   │            │ dropout[<span style=\"color: #00af00; text-decoration-color: #00af00\">0</span>][<span style=\"color: #00af00; text-decoration-color: #00af00\">0</span>]     │\n",
       "├─────────────────────┼───────────────────┼────────────┼───────────────────┤\n",
       "│ dense_3 (<span style=\"color: #0087ff; text-decoration-color: #0087ff\">Dense</span>)     │ (<span style=\"color: #00d7ff; text-decoration-color: #00d7ff\">None</span>, <span style=\"color: #00af00; text-decoration-color: #00af00\">10</span>)        │      <span style=\"color: #00af00; text-decoration-color: #00af00\">1,390</span> │ concatenate[<span style=\"color: #00af00; text-decoration-color: #00af00\">0</span>][<span style=\"color: #00af00; text-decoration-color: #00af00\">0</span>] │\n",
       "└─────────────────────┴───────────────────┴────────────┴───────────────────┘\n",
       "</pre>\n"
      ],
      "text/plain": [
       "┏━━━━━━━━━━━━━━━━━━━━━┳━━━━━━━━━━━━━━━━━━━┳━━━━━━━━━━━━┳━━━━━━━━━━━━━━━━━━━┓\n",
       "┃\u001b[1m \u001b[0m\u001b[1mLayer (type)       \u001b[0m\u001b[1m \u001b[0m┃\u001b[1m \u001b[0m\u001b[1mOutput Shape     \u001b[0m\u001b[1m \u001b[0m┃\u001b[1m \u001b[0m\u001b[1m   Param #\u001b[0m\u001b[1m \u001b[0m┃\u001b[1m \u001b[0m\u001b[1mConnected to     \u001b[0m\u001b[1m \u001b[0m┃\n",
       "┡━━━━━━━━━━━━━━━━━━━━━╇━━━━━━━━━━━━━━━━━━━╇━━━━━━━━━━━━╇━━━━━━━━━━━━━━━━━━━┩\n",
       "│ input_layer         │ (\u001b[38;5;45mNone\u001b[0m, \u001b[38;5;34m128\u001b[0m, \u001b[38;5;34m128\u001b[0m,  │          \u001b[38;5;34m0\u001b[0m │ -                 │\n",
       "│ (\u001b[38;5;33mInputLayer\u001b[0m)        │ \u001b[38;5;34m3\u001b[0m)                │            │                   │\n",
       "├─────────────────────┼───────────────────┼────────────┼───────────────────┤\n",
       "│ conv2d (\u001b[38;5;33mConv2D\u001b[0m)     │ (\u001b[38;5;45mNone\u001b[0m, \u001b[38;5;34m64\u001b[0m, \u001b[38;5;34m64\u001b[0m,    │      \u001b[38;5;34m1,216\u001b[0m │ input_layer[\u001b[38;5;34m0\u001b[0m][\u001b[38;5;34m0\u001b[0m] │\n",
       "│                     │ \u001b[38;5;34m16\u001b[0m)               │            │                   │\n",
       "├─────────────────────┼───────────────────┼────────────┼───────────────────┤\n",
       "│ max_pooling2d       │ (\u001b[38;5;45mNone\u001b[0m, \u001b[38;5;34m32\u001b[0m, \u001b[38;5;34m32\u001b[0m,    │          \u001b[38;5;34m0\u001b[0m │ conv2d[\u001b[38;5;34m0\u001b[0m][\u001b[38;5;34m0\u001b[0m]      │\n",
       "│ (\u001b[38;5;33mMaxPooling2D\u001b[0m)      │ \u001b[38;5;34m16\u001b[0m)               │            │                   │\n",
       "├─────────────────────┼───────────────────┼────────────┼───────────────────┤\n",
       "│ conv2d_1 (\u001b[38;5;33mConv2D\u001b[0m)   │ (\u001b[38;5;45mNone\u001b[0m, \u001b[38;5;34m16\u001b[0m, \u001b[38;5;34m16\u001b[0m,    │     \u001b[38;5;34m12,832\u001b[0m │ max_pooling2d[\u001b[38;5;34m0\u001b[0m]… │\n",
       "│                     │ \u001b[38;5;34m32\u001b[0m)               │            │                   │\n",
       "├─────────────────────┼───────────────────┼────────────┼───────────────────┤\n",
       "│ max_pooling2d_1     │ (\u001b[38;5;45mNone\u001b[0m, \u001b[38;5;34m8\u001b[0m, \u001b[38;5;34m8\u001b[0m, \u001b[38;5;34m32\u001b[0m)  │          \u001b[38;5;34m0\u001b[0m │ conv2d_1[\u001b[38;5;34m0\u001b[0m][\u001b[38;5;34m0\u001b[0m]    │\n",
       "│ (\u001b[38;5;33mMaxPooling2D\u001b[0m)      │                   │            │                   │\n",
       "├─────────────────────┼───────────────────┼────────────┼───────────────────┤\n",
       "│ conv2d_2 (\u001b[38;5;33mConv2D\u001b[0m)   │ (\u001b[38;5;45mNone\u001b[0m, \u001b[38;5;34m4\u001b[0m, \u001b[38;5;34m4\u001b[0m, \u001b[38;5;34m64\u001b[0m)  │     \u001b[38;5;34m51,264\u001b[0m │ max_pooling2d_1[\u001b[38;5;34m…\u001b[0m │\n",
       "├─────────────────────┼───────────────────┼────────────┼───────────────────┤\n",
       "│ max_pooling2d_2     │ (\u001b[38;5;45mNone\u001b[0m, \u001b[38;5;34m2\u001b[0m, \u001b[38;5;34m2\u001b[0m, \u001b[38;5;34m64\u001b[0m)  │          \u001b[38;5;34m0\u001b[0m │ conv2d_2[\u001b[38;5;34m0\u001b[0m][\u001b[38;5;34m0\u001b[0m]    │\n",
       "│ (\u001b[38;5;33mMaxPooling2D\u001b[0m)      │                   │            │                   │\n",
       "├─────────────────────┼───────────────────┼────────────┼───────────────────┤\n",
       "│ conv2d_4 (\u001b[38;5;33mConv2D\u001b[0m)   │ (\u001b[38;5;45mNone\u001b[0m, \u001b[38;5;34m1\u001b[0m, \u001b[38;5;34m1\u001b[0m, \u001b[38;5;34m32\u001b[0m)  │     \u001b[38;5;34m18,464\u001b[0m │ max_pooling2d_2[\u001b[38;5;34m…\u001b[0m │\n",
       "├─────────────────────┼───────────────────┼────────────┼───────────────────┤\n",
       "│ global_max_pooling… │ (\u001b[38;5;45mNone\u001b[0m, \u001b[38;5;34m32\u001b[0m)        │          \u001b[38;5;34m0\u001b[0m │ conv2d_4[\u001b[38;5;34m0\u001b[0m][\u001b[38;5;34m0\u001b[0m]    │\n",
       "│ (\u001b[38;5;33mGlobalMaxPooling2…\u001b[0m │                   │            │                   │\n",
       "├─────────────────────┼───────────────────┼────────────┼───────────────────┤\n",
       "│ conv2d_3 (\u001b[38;5;33mConv2D\u001b[0m)   │ (\u001b[38;5;45mNone\u001b[0m, \u001b[38;5;34m1\u001b[0m, \u001b[38;5;34m1\u001b[0m, \u001b[38;5;34m510\u001b[0m) │     \u001b[38;5;34m33,150\u001b[0m │ max_pooling2d_2[\u001b[38;5;34m…\u001b[0m │\n",
       "├─────────────────────┼───────────────────┼────────────┼───────────────────┤\n",
       "│ dense (\u001b[38;5;33mDense\u001b[0m)       │ (\u001b[38;5;45mNone\u001b[0m, \u001b[38;5;34m256\u001b[0m)       │      \u001b[38;5;34m8,448\u001b[0m │ global_max_pooli… │\n",
       "├─────────────────────┼───────────────────┼────────────┼───────────────────┤\n",
       "│ global_max_pooling… │ (\u001b[38;5;45mNone\u001b[0m, \u001b[38;5;34m510\u001b[0m)       │          \u001b[38;5;34m0\u001b[0m │ conv2d_3[\u001b[38;5;34m0\u001b[0m][\u001b[38;5;34m0\u001b[0m]    │\n",
       "│ (\u001b[38;5;33mGlobalMaxPooling2…\u001b[0m │                   │            │                   │\n",
       "├─────────────────────┼───────────────────┼────────────┼───────────────────┤\n",
       "│ dense_1 (\u001b[38;5;33mDense\u001b[0m)     │ (\u001b[38;5;45mNone\u001b[0m, \u001b[38;5;34m128\u001b[0m)       │     \u001b[38;5;34m32,896\u001b[0m │ dense[\u001b[38;5;34m0\u001b[0m][\u001b[38;5;34m0\u001b[0m]       │\n",
       "├─────────────────────┼───────────────────┼────────────┼───────────────────┤\n",
       "│ reshape (\u001b[38;5;33mReshape\u001b[0m)   │ (\u001b[38;5;45mNone\u001b[0m, \u001b[38;5;34m51\u001b[0m, \u001b[38;5;34m10\u001b[0m)    │          \u001b[38;5;34m0\u001b[0m │ global_max_pooli… │\n",
       "├─────────────────────┼───────────────────┼────────────┼───────────────────┤\n",
       "│ dense_2 (\u001b[38;5;33mDense\u001b[0m)     │ (\u001b[38;5;45mNone\u001b[0m, \u001b[38;5;34m128\u001b[0m)       │     \u001b[38;5;34m16,512\u001b[0m │ dense_1[\u001b[38;5;34m0\u001b[0m][\u001b[38;5;34m0\u001b[0m]     │\n",
       "├─────────────────────┼───────────────────┼────────────┼───────────────────┤\n",
       "│ global_average_poo… │ (\u001b[38;5;45mNone\u001b[0m, \u001b[38;5;34m10\u001b[0m)        │          \u001b[38;5;34m0\u001b[0m │ reshape[\u001b[38;5;34m0\u001b[0m][\u001b[38;5;34m0\u001b[0m]     │\n",
       "│ (\u001b[38;5;33mGlobalAveragePool…\u001b[0m │                   │            │                   │\n",
       "├─────────────────────┼───────────────────┼────────────┼───────────────────┤\n",
       "│ dropout (\u001b[38;5;33mDropout\u001b[0m)   │ (\u001b[38;5;45mNone\u001b[0m, \u001b[38;5;34m128\u001b[0m)       │          \u001b[38;5;34m0\u001b[0m │ dense_2[\u001b[38;5;34m0\u001b[0m][\u001b[38;5;34m0\u001b[0m]     │\n",
       "├─────────────────────┼───────────────────┼────────────┼───────────────────┤\n",
       "│ concatenate         │ (\u001b[38;5;45mNone\u001b[0m, \u001b[38;5;34m138\u001b[0m)       │          \u001b[38;5;34m0\u001b[0m │ global_average_p… │\n",
       "│ (\u001b[38;5;33mConcatenate\u001b[0m)       │                   │            │ dropout[\u001b[38;5;34m0\u001b[0m][\u001b[38;5;34m0\u001b[0m]     │\n",
       "├─────────────────────┼───────────────────┼────────────┼───────────────────┤\n",
       "│ dense_3 (\u001b[38;5;33mDense\u001b[0m)     │ (\u001b[38;5;45mNone\u001b[0m, \u001b[38;5;34m10\u001b[0m)        │      \u001b[38;5;34m1,390\u001b[0m │ concatenate[\u001b[38;5;34m0\u001b[0m][\u001b[38;5;34m0\u001b[0m] │\n",
       "└─────────────────────┴───────────────────┴────────────┴───────────────────┘\n"
      ]
     },
     "metadata": {},
     "output_type": "display_data"
    },
    {
     "data": {
      "text/html": [
       "<pre style=\"white-space:pre;overflow-x:auto;line-height:normal;font-family:Menlo,'DejaVu Sans Mono',consolas,'Courier New',monospace\"><span style=\"font-weight: bold\"> Total params: </span><span style=\"color: #00af00; text-decoration-color: #00af00\">528,518</span> (2.02 MB)\n",
       "</pre>\n"
      ],
      "text/plain": [
       "\u001b[1m Total params: \u001b[0m\u001b[38;5;34m528,518\u001b[0m (2.02 MB)\n"
      ]
     },
     "metadata": {},
     "output_type": "display_data"
    },
    {
     "data": {
      "text/html": [
       "<pre style=\"white-space:pre;overflow-x:auto;line-height:normal;font-family:Menlo,'DejaVu Sans Mono',consolas,'Courier New',monospace\"><span style=\"font-weight: bold\"> Trainable params: </span><span style=\"color: #00af00; text-decoration-color: #00af00\">176,172</span> (688.17 KB)\n",
       "</pre>\n"
      ],
      "text/plain": [
       "\u001b[1m Trainable params: \u001b[0m\u001b[38;5;34m176,172\u001b[0m (688.17 KB)\n"
      ]
     },
     "metadata": {},
     "output_type": "display_data"
    },
    {
     "data": {
      "text/html": [
       "<pre style=\"white-space:pre;overflow-x:auto;line-height:normal;font-family:Menlo,'DejaVu Sans Mono',consolas,'Courier New',monospace\"><span style=\"font-weight: bold\"> Non-trainable params: </span><span style=\"color: #00af00; text-decoration-color: #00af00\">0</span> (0.00 B)\n",
       "</pre>\n"
      ],
      "text/plain": [
       "\u001b[1m Non-trainable params: \u001b[0m\u001b[38;5;34m0\u001b[0m (0.00 B)\n"
      ]
     },
     "metadata": {},
     "output_type": "display_data"
    },
    {
     "data": {
      "text/html": [
       "<pre style=\"white-space:pre;overflow-x:auto;line-height:normal;font-family:Menlo,'DejaVu Sans Mono',consolas,'Courier New',monospace\"><span style=\"font-weight: bold\"> Optimizer params: </span><span style=\"color: #00af00; text-decoration-color: #00af00\">352,346</span> (1.34 MB)\n",
       "</pre>\n"
      ],
      "text/plain": [
       "\u001b[1m Optimizer params: \u001b[0m\u001b[38;5;34m352,346\u001b[0m (1.34 MB)\n"
      ]
     },
     "metadata": {},
     "output_type": "display_data"
    }
   ],
   "source": [
    "model.evaluate(x_test,y_test)\n",
    "model.summary()"
   ]
  },
  {
   "cell_type": "markdown",
   "id": "c9c3a385",
   "metadata": {
    "id": "UA1vYOpr3Y_B",
    "papermill": {
     "duration": 0.023666,
     "end_time": "2025-03-02T16:23:19.084742",
     "exception": false,
     "start_time": "2025-03-02T16:23:19.061076",
     "status": "completed"
    },
    "tags": []
   },
   "source": [
    "Model Summary"
   ]
  },
  {
   "cell_type": "markdown",
   "id": "16381827",
   "metadata": {
    "id": "s05xUe2urLrn",
    "papermill": {
     "duration": 0.023719,
     "end_time": "2025-03-02T16:23:19.132169",
     "exception": false,
     "start_time": "2025-03-02T16:23:19.108450",
     "status": "completed"
    },
    "tags": []
   },
   "source": [
    "**Model download (if required)**"
   ]
  },
  {
   "cell_type": "code",
   "execution_count": 18,
   "id": "85f62eea",
   "metadata": {
    "execution": {
     "iopub.execute_input": "2025-03-02T16:23:19.180610Z",
     "iopub.status.busy": "2025-03-02T16:23:19.179658Z",
     "iopub.status.idle": "2025-03-02T16:23:19.253532Z",
     "shell.execute_reply": "2025-03-02T16:23:19.252644Z"
    },
    "id": "xd1ctrfhrTcc",
    "papermill": {
     "duration": 0.100388,
     "end_time": "2025-03-02T16:23:19.255953",
     "exception": false,
     "start_time": "2025-03-02T16:23:19.155565",
     "status": "completed"
    },
    "tags": []
   },
   "outputs": [],
   "source": [
    "\n",
    "\n",
    "# Save your model (Example for Keras)\n",
    "model.save('two_stream_cnn_6.keras')\n",
    "\n",
    "# Download the model to your local machine\n",
    "# files.download('model.h5')\n"
   ]
  },
  {
   "cell_type": "markdown",
   "id": "e3e97368",
   "metadata": {
    "id": "H93LIS3e3cD-",
    "papermill": {
     "duration": 0.022247,
     "end_time": "2025-03-02T16:23:19.306737",
     "exception": false,
     "start_time": "2025-03-02T16:23:19.284490",
     "status": "completed"
    },
    "tags": []
   },
   "source": [
    "Confusion Matrix"
   ]
  },
  {
   "cell_type": "code",
   "execution_count": 19,
   "id": "855007f4",
   "metadata": {
    "execution": {
     "iopub.execute_input": "2025-03-02T16:23:19.352777Z",
     "iopub.status.busy": "2025-03-02T16:23:19.352482Z",
     "iopub.status.idle": "2025-03-02T16:23:23.007571Z",
     "shell.execute_reply": "2025-03-02T16:23:23.006669Z"
    },
    "id": "tPPMSOdS3Xao",
    "outputId": "9749f980-1014-4997-81f2-807241974d6a",
    "papermill": {
     "duration": 3.680099,
     "end_time": "2025-03-02T16:23:23.009344",
     "exception": false,
     "start_time": "2025-03-02T16:23:19.329245",
     "status": "completed"
    },
    "tags": []
   },
   "outputs": [
    {
     "name": "stdout",
     "output_type": "stream",
     "text": [
      "\u001b[1m86/86\u001b[0m \u001b[32m━━━━━━━━━━━━━━━━━━━━\u001b[0m\u001b[37m\u001b[0m \u001b[1m1s\u001b[0m 7ms/step\n"
     ]
    },
    {
     "data": {
      "image/png": "[encoded data removed]",
      "text/plain": [
       "<Figure size 800x600 with 2 Axes>"
      ]
     },
     "metadata": {},
     "output_type": "display_data"
    }
   ],
   "source": [
    "y_predicted = model.predict(x_test)\n",
    "y_predicted = np.argmax(y_predicted,axis=1)\n",
    "from sklearn.metrics import confusion_matrix\n",
    "\n",
    "cm = confusion_matrix(y_test,y_predicted)\n",
    "cm\n",
    "\n",
    "#Visual Representation of confusion matrix using seaborn heatmap\n",
    "\n",
    "import matplotlib.pyplot as plt\n",
    "import seaborn as sns\n",
    "# Plot confusion matrix using seaborn heatmap\n",
    "plt.figure(figsize=(8,6))\n",
    "sns.heatmap(cm, annot=True, fmt='d', cmap='Blues', xticklabels=mstarclass_test, yticklabels=mstarclass_test)\n",
    "plt.ylabel('Actual Label')\n",
    "plt.xlabel('Predicted Label')\n",
    "plt.title('Confusion Matrix')\n",
    "plt.show()\n"
   ]
  },
  {
   "cell_type": "markdown",
   "id": "6b4428e1",
   "metadata": {
    "id": "JB9-oMy3ewFl",
    "papermill": {
     "duration": 0.023278,
     "end_time": "2025-03-02T16:23:23.056334",
     "exception": false,
     "start_time": "2025-03-02T16:23:23.033056",
     "status": "completed"
    },
    "tags": []
   },
   "source": [
    "##Previous Model Loadings"
   ]
  },
  {
   "cell_type": "code",
   "execution_count": 20,
   "id": "c4da6a00",
   "metadata": {
    "execution": {
     "iopub.execute_input": "2025-03-02T16:23:23.105066Z",
     "iopub.status.busy": "2025-03-02T16:23:23.104296Z",
     "iopub.status.idle": "2025-03-02T16:23:26.195671Z",
     "shell.execute_reply": "2025-03-02T16:23:26.194952Z"
    },
    "id": "NXxl6XSCe2WE",
    "outputId": "06c6ba61-c5f9-4d5c-94d4-d412eb941ff9",
    "papermill": {
     "duration": 3.117691,
     "end_time": "2025-03-02T16:23:26.197532",
     "exception": false,
     "start_time": "2025-03-02T16:23:23.079841",
     "status": "completed"
    },
    "tags": []
   },
   "outputs": [
    {
     "name": "stdout",
     "output_type": "stream",
     "text": [
      "\u001b[1m86/86\u001b[0m \u001b[32m━━━━━━━━━━━━━━━━━━━━\u001b[0m\u001b[37m\u001b[0m \u001b[1m1s\u001b[0m 7ms/step - accuracy: 0.9784 - loss: 0.0844\n"
     ]
    }
   ],
   "source": [
    "Best_model = tf.keras.models.load_model('/kaggle/input/two_stream_cnn_6_model/keras/default/1/two_stream_cnn_6.keras')\n",
    "Accuracy=Best_model.evaluate(x_test,y_test)[1]\n",
    "# Accuracy = Best_model.evaluate(x_test,y_test)[1]\n",
    "\n",
    "# Best_model.summary()"
   ]
  },
  {
   "cell_type": "code",
   "execution_count": 21,
   "id": "d4f0b233",
   "metadata": {
    "execution": {
     "iopub.execute_input": "2025-03-02T16:23:26.247758Z",
     "iopub.status.busy": "2025-03-02T16:23:26.246976Z",
     "iopub.status.idle": "2025-03-02T16:23:28.648921Z",
     "shell.execute_reply": "2025-03-02T16:23:28.648023Z"
    },
    "papermill": {
     "duration": 2.428566,
     "end_time": "2025-03-02T16:23:28.650960",
     "exception": false,
     "start_time": "2025-03-02T16:23:26.222394",
     "status": "completed"
    },
    "tags": []
   },
   "outputs": [
    {
     "name": "stdout",
     "output_type": "stream",
     "text": [
      "\u001b[1m86/86\u001b[0m \u001b[32m━━━━━━━━━━━━━━━━━━━━\u001b[0m\u001b[37m\u001b[0m \u001b[1m0s\u001b[0m 3ms/step\n"
     ]
    },
    {
     "data": {
      "image/png": "[encoded data removed]",
      "text/plain": [
       "<Figure size 800x600 with 2 Axes>"
      ]
     },
     "metadata": {},
     "output_type": "display_data"
    }
   ],
   "source": [
    "y_predicted = model.predict(x_test)\n",
    "y_predicted = np.argmax(y_predicted,axis=1)\n",
    "from sklearn.metrics import confusion_matrix\n",
    "\n",
    "cm = confusion_matrix(y_test,y_predicted)\n",
    "cm\n",
    "\n",
    "#Visual Representation of confusion matrix using seaborn heatmap\n",
    "\n",
    "import matplotlib.pyplot as plt\n",
    "import seaborn as sns\n",
    "# Plot confusion matrix using seaborn heatmap\n",
    "plt.figure(figsize=(8,6))\n",
    "sns.heatmap(cm, annot=True, fmt='d', cmap='Blues', xticklabels=mstarclass_test, yticklabels=mstarclass_test)\n",
    "plt.ylabel('Actual Label')\n",
    "plt.xlabel('Predicted Label')\n",
    "plt.title('Confusion Matrix')\n",
    "plt.show()\n"
   ]
  },
  {
   "cell_type": "code",
   "execution_count": 22,
   "id": "bc66fccd",
   "metadata": {
    "execution": {
     "iopub.execute_input": "2025-03-02T16:23:28.703417Z",
     "iopub.status.busy": "2025-03-02T16:23:28.702732Z",
     "iopub.status.idle": "2025-03-02T16:23:28.715880Z",
     "shell.execute_reply": "2025-03-02T16:23:28.715099Z"
    },
    "papermill": {
     "duration": 0.040687,
     "end_time": "2025-03-02T16:23:28.717551",
     "exception": false,
     "start_time": "2025-03-02T16:23:28.676864",
     "status": "completed"
    },
    "tags": []
   },
   "outputs": [
    {
     "name": "stdout",
     "output_type": "stream",
     "text": [
      "              precision    recall  f1-score   support\n",
      "\n",
      "       BTR70       0.91      0.97      0.94       233\n",
      "      ZIL131       1.00      0.99      0.99       299\n",
      "       BRDM2       0.91      0.97      0.94       298\n",
      "         T62       0.98      0.95      0.96       299\n",
      "         T72       0.96      0.95      0.95       232\n",
      "         2S1       0.98      0.96      0.97       299\n",
      "       BTR60       0.93      0.92      0.93       256\n",
      "          D7       1.00      0.99      0.99       299\n",
      "        BMP2       0.90      0.81      0.85       233\n",
      "    ZSU_23_4       0.95      1.00      0.97       299\n",
      "\n",
      "    accuracy                           0.95      2747\n",
      "   macro avg       0.95      0.95      0.95      2747\n",
      "weighted avg       0.95      0.95      0.95      2747\n",
      "\n"
     ]
    }
   ],
   "source": [
    "from sklearn.metrics import classification_report\n",
    "print(classification_report(y_test,y_predicted,target_names=mstarclass_test))\n"
   ]
  },
  {
   "cell_type": "code",
   "execution_count": 23,
   "id": "9798c982",
   "metadata": {
    "execution": {
     "iopub.execute_input": "2025-03-02T16:23:28.767921Z",
     "iopub.status.busy": "2025-03-02T16:23:28.767445Z",
     "iopub.status.idle": "2025-03-02T16:23:28.774475Z",
     "shell.execute_reply": "2025-03-02T16:23:28.773658Z"
    },
    "papermill": {
     "duration": 0.034028,
     "end_time": "2025-03-02T16:23:28.776033",
     "exception": false,
     "start_time": "2025-03-02T16:23:28.742005",
     "status": "completed"
    },
    "tags": []
   },
   "outputs": [
    {
     "name": "stdout",
     "output_type": "stream",
     "text": [
      "Average Accuracy: 0.9495799224841923\n",
      "Overall Accuracy: 0.9814342856407166\n",
      "Kappa:0.9477441982483041\n"
     ]
    }
   ],
   "source": [
    "from sklearn.metrics import cohen_kappa_score\n",
    "class_accuracy = cm.diagonal() / cm.sum(axis=1)\n",
    "aa = np.mean(class_accuracy)\n",
    "print(f'Average Accuracy: {aa}')\n",
    "print(f'Overall Accuracy: {Accuracy}')\n",
    "kappa = cohen_kappa_score(y_test, y_predicted)\n",
    "print(f'Kappa:{kappa}')\n"
   ]
  },
  {
   "cell_type": "code",
   "execution_count": 24,
   "id": "a397b69d",
   "metadata": {
    "execution": {
     "iopub.execute_input": "2025-03-02T16:23:28.826884Z",
     "iopub.status.busy": "2025-03-02T16:23:28.826660Z",
     "iopub.status.idle": "2025-03-02T16:23:29.906496Z",
     "shell.execute_reply": "2025-03-02T16:23:29.905557Z"
    },
    "papermill": {
     "duration": 1.107201,
     "end_time": "2025-03-02T16:23:29.908490",
     "exception": false,
     "start_time": "2025-03-02T16:23:28.801289",
     "status": "completed"
    },
    "tags": []
   },
   "outputs": [
    {
     "data": {
      "text/plain": [
       "'/kaggle/working/model_architecture.png'"
      ]
     },
     "execution_count": 24,
     "metadata": {},
     "output_type": "execute_result"
    }
   ],
   "source": [
    "from tensorflow.keras.utils import plot_model\n",
    "\n",
    "# Create a visual representation of the model and save it as an image file\n",
    "plot_model(Best_model, to_file='model_architecture.png', show_shapes=True, show_layer_names=True)\n",
    "\n",
    "import shutil\n",
    "\n",
    "# Move the file to the output directory\n",
    "shutil.move('model_architecture.png', '/kaggle/working/model_architecture.png')\n"
   ]
  },
  {
   "cell_type": "markdown",
   "id": "8533d412",
   "metadata": {
    "papermill": {
     "duration": 0.02467,
     "end_time": "2025-03-02T16:23:29.960374",
     "exception": false,
     "start_time": "2025-03-02T16:23:29.935704",
     "status": "completed"
    },
    "tags": []
   },
   "source": [
    "ROC and AUC Curve"
   ]
  },
  {
   "cell_type": "code",
   "execution_count": 25,
   "id": "302a92d4",
   "metadata": {
    "execution": {
     "iopub.execute_input": "2025-03-02T16:23:30.011407Z",
     "iopub.status.busy": "2025-03-02T16:23:30.010830Z",
     "iopub.status.idle": "2025-03-02T16:23:30.014851Z",
     "shell.execute_reply": "2025-03-02T16:23:30.014010Z"
    },
    "papermill": {
     "duration": 0.031595,
     "end_time": "2025-03-02T16:23:30.016496",
     "exception": false,
     "start_time": "2025-03-02T16:23:29.984901",
     "status": "completed"
    },
    "tags": []
   },
   "outputs": [],
   "source": [
    "from sklearn.preprocessing import label_binarize\n",
    "\n",
    "\n",
    "y_true = y_test_categorical\n",
    "# classes = list(range(10))  \n",
    "# y_true_bin = label_binarize(y_true, classes=classes)\n",
    "\n",
    "# print(y_true_bin[:])\n",
    "# print(y_true[:10])\n",
    "# print(classes[:])"
   ]
  },
  {
   "cell_type": "code",
   "execution_count": 26,
   "id": "617941bd",
   "metadata": {
    "execution": {
     "iopub.execute_input": "2025-03-02T16:23:30.105605Z",
     "iopub.status.busy": "2025-03-02T16:23:30.105266Z",
     "iopub.status.idle": "2025-03-02T16:23:32.046752Z",
     "shell.execute_reply": "2025-03-02T16:23:32.045769Z"
    },
    "papermill": {
     "duration": 1.970818,
     "end_time": "2025-03-02T16:23:32.048799",
     "exception": false,
     "start_time": "2025-03-02T16:23:30.077981",
     "status": "completed"
    },
    "tags": []
   },
   "outputs": [
    {
     "name": "stdout",
     "output_type": "stream",
     "text": [
      "\u001b[1m86/86\u001b[0m \u001b[32m━━━━━━━━━━━━━━━━━━━━\u001b[0m\u001b[37m\u001b[0m \u001b[1m0s\u001b[0m 3ms/step\n"
     ]
    }
   ],
   "source": [
    "\n",
    "y_scores = model.predict(x_test)\n"
   ]
  },
  {
   "cell_type": "code",
   "execution_count": 27,
   "id": "e481684d",
   "metadata": {
    "execution": {
     "iopub.execute_input": "2025-03-02T16:23:32.102883Z",
     "iopub.status.busy": "2025-03-02T16:23:32.102248Z",
     "iopub.status.idle": "2025-03-02T16:23:32.118689Z",
     "shell.execute_reply": "2025-03-02T16:23:32.117998Z"
    },
    "papermill": {
     "duration": 0.045057,
     "end_time": "2025-03-02T16:23:32.120299",
     "exception": false,
     "start_time": "2025-03-02T16:23:32.075242",
     "status": "completed"
    },
    "tags": []
   },
   "outputs": [],
   "source": [
    "from sklearn.metrics import roc_curve, auc\n",
    "\n",
    "fpr = {}\n",
    "tpr = {}\n",
    "roc_auc = {}\n",
    "\n",
    "for i in range(10):\n",
    "    fpr[i], tpr[i], _ = roc_curve(y_test_categorical[:, i], y_scores[:, i])\n",
    "    roc_auc[i] = auc(fpr[i], tpr[i])\n"
   ]
  },
  {
   "cell_type": "code",
   "execution_count": 28,
   "id": "7b239421",
   "metadata": {
    "execution": {
     "iopub.execute_input": "2025-03-02T16:23:32.173271Z",
     "iopub.status.busy": "2025-03-02T16:23:32.172919Z",
     "iopub.status.idle": "2025-03-02T16:23:32.516416Z",
     "shell.execute_reply": "2025-03-02T16:23:32.515536Z"
    },
    "papermill": {
     "duration": 0.372124,
     "end_time": "2025-03-02T16:23:32.518055",
     "exception": false,
     "start_time": "2025-03-02T16:23:32.145931",
     "status": "completed"
    },
    "tags": []
   },
   "outputs": [
    {
     "data": {
      "image/png": "[encoded data removed]",
      "text/plain": [
       "<Figure size 1000x800 with 1 Axes>"
      ]
     },
     "metadata": {},
     "output_type": "display_data"
    }
   ],
   "source": [
    "import matplotlib.pyplot as plt\n",
    "\n",
    "\n",
    "plt.figure(figsize=(10, 8))\n",
    "for i in range(10):\n",
    "    plt.plot(fpr[i], tpr[i], label=f'{mstarclass_test[i]} (AUC = {roc_auc[i]:.4f})')\n",
    "\n",
    "plt.plot([0, 1], [0, 1], 'k--')\n",
    "plt.xlabel('False Positive Rate')\n",
    "plt.ylabel('True Positive Rate')\n",
    "plt.title('ROC Curves for Multi-Class Classification')\n",
    "plt.legend(loc='lower right')\n",
    "plt.show()\n"
   ]
  }
 ],
 "metadata": {
  "accelerator": "GPU",
  "colab": {
   "gpuType": "T4",
   "provenance": []
  },
  "kaggle": {
   "accelerator": "gpu",
   "dataSources": [
    {
     "datasetId": 5941960,
     "sourceId": 9713532,
     "sourceType": "datasetVersion"
    },
    {
     "modelId": 146607,
     "modelInstanceId": 123546,
     "sourceId": 145695,
     "sourceType": "modelInstanceVersion"
    },
    {
     "modelId": 146609,
     "modelInstanceId": 123548,
     "sourceId": 145697,
     "sourceType": "modelInstanceVersion"
    },
    {
     "isSourceIdPinned": true,
     "modelId": 148622,
     "modelInstanceId": 125649,
     "sourceId": 148083,
     "sourceType": "modelInstanceVersion"
    }
   ],
   "dockerImageVersionId": 30787,
   "isGpuEnabled": true,
   "isInternetEnabled": true,
   "language": "python",
   "sourceType": "notebook"
  },
  "kernelspec": {
   "display_name": "Python 3",
   "language": "python",
   "name": "python3"
  },
  "language_info": {
   "codemirror_mode": {
    "name": "ipython",
    "version": 3
   },
   "file_extension": ".py",
   "mimetype": "text/x-python",
   "name": "python",
   "nbconvert_exporter": "python",
   "pygments_lexer": "ipython3",
   "version": "3.10.14"
  },
  "papermill": {
   "default_parameters": {},
   "duration": 113.720309,
   "end_time": "2025-03-02T16:23:34.801898",
   "environment_variables": {},
   "exception": null,
   "input_path": "__notebook__.ipynb",
   "output_path": "__notebook__.ipynb",
   "parameters": {},
   "start_time": "2025-03-02T16:21:41.081589",
   "version": "2.6.0"
  }
 },
 "nbformat": 4,
 "nbformat_minor": 5
}
